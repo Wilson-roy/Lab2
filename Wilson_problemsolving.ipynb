{
 "cells": [
  {
   "cell_type": "code",
   "execution_count": 30,
   "id": "f09a9499-b826-4dd1-922f-269b3f42d578",
   "metadata": {},
   "outputs": [
    {
     "name": "stdout",
     "output_type": "stream",
     "text": [
      "Trailing zeros in 1000!: 249\n"
     ]
    }
   ],
   "source": [
    "#1. Trailing zeros of 1000!\n",
    "\n",
    "def trailing_zeros(n):\n",
    "    count = 0\n",
    "    while n >= 5:\n",
    "        n //= 5\n",
    "        count += n\n",
    "    return count\n",
    "\n",
    "print(\"Trailing zeros in 1000!:\", trailing_zeros(1000))\n"
   ]
  },
  {
   "cell_type": "code",
   "execution_count": 31,
   "id": "3f53d851-d487-4e41-8cd6-966754cd2240",
   "metadata": {},
   "outputs": [
    {
     "name": "stdout",
     "output_type": "stream",
     "text": [
      "Sum of digits of 100^13 - 26: 227\n"
     ]
    }
   ],
   "source": [
    "#2. Sum of digits of 100^13 - 26\n",
    "\n",
    "num = 100**13 - 26\n",
    "digit_sum = sum(int(d) for d in str(num))\n",
    "print(\"Sum of digits of 100^13 - 26:\", digit_sum)\n"
   ]
  },
  {
   "cell_type": "code",
   "execution_count": 32,
   "id": "fa4f4670-2b7c-4ed3-8c8e-77826669dd9c",
   "metadata": {},
   "outputs": [
    {
     "name": "stdout",
     "output_type": "stream",
     "text": [
      "Soccer handshake total: 176\n"
     ]
    }
   ],
   "source": [
    "#3. Soccer teams handshakes\n",
    "\n",
    "def soccer_handshakes(team_size=11):\n",
    "    # cross-team handshakes\n",
    "    cross = team_size * team_size\n",
    "    # winning team handshakes within themselves\n",
    "    win_team = team_size * (team_size - 1) // 2\n",
    "    return cross + win_team\n",
    "\n",
    "print(\"Soccer handshake total:\", soccer_handshakes())\n"
   ]
  },
  {
   "cell_type": "code",
   "execution_count": 33,
   "id": "d393e4b2-c56c-43ce-807f-d653613d60b5",
   "metadata": {},
   "outputs": [
    {
     "name": "stdout",
     "output_type": "stream",
     "text": [
      "Mr. Smith shook hands: 4\n"
     ]
    }
   ],
   "source": [
    "#4. Harder Handshakes (Mr. Smith problem)\n",
    "\n",
    "N = 5  # number of couples\n",
    "mr_smith = N - 1\n",
    "print(\"Mr. Smith shook hands:\", mr_smith)\n"
   ]
  }
 ],
 "metadata": {
  "kernelspec": {
   "display_name": "Python [conda env:base] *",
   "language": "python",
   "name": "conda-base-py"
  },
  "language_info": {
   "codemirror_mode": {
    "name": "ipython",
    "version": 3
   },
   "file_extension": ".py",
   "mimetype": "text/x-python",
   "name": "python",
   "nbconvert_exporter": "python",
   "pygments_lexer": "ipython3",
   "version": "3.12.7"
  }
 },
 "nbformat": 4,
 "nbformat_minor": 5
}
